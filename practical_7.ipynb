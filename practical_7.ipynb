{
  "nbformat": 4,
  "nbformat_minor": 0,
  "metadata": {
    "colab": {
      "name": "practical 7.ipynb",
      "provenance": []
    },
    "kernelspec": {
      "name": "python3",
      "display_name": "Python 3"
    },
    "language_info": {
      "name": "python"
    }
  },
  "cells": [
    {
      "cell_type": "markdown",
      "source": [
        "Write a program to demonstrate working with dictionaries in python"
      ],
      "metadata": {
        "id": "d9vfKF3H5cXU"
      }
    },
    {
      "cell_type": "code",
      "source": [
        "dict1 = {'StdNo':'532','StuName': 'Rajesh', 'StuAge': 21, 'StuCity': 'shirpur'}\n",
        "print(\"\\n Dictionary is :\",dict1)\n",
        "#Accessing specific values \n",
        "print(\"\\n Student Name is :\",dict1['StuName'])\n",
        "print(\"\\n Student City is :\",dict1['StuCity'])\n",
        "#Display all Keys\n",
        "print(\"\\n All Keys in Dictionary \")\n",
        "for x in dict1:\n",
        "    print(x)\n",
        "#Display all values\n",
        "print(\"\\n All Values in Dictionary \")\n",
        "for x in dict1:\n",
        "    print(dict1[x])\n",
        "#Adding items\n",
        "dict1[\"Phno\"]=85457854\n",
        "#Updated dictoinary\n",
        "print(\"\\n Uadated Dictionary is :\",dict1)\n",
        "#Change values\n",
        "dict1[\"StuName\"]=\"shreya\"\n",
        "#Updated dictoinary\n",
        "print(\"\\n Uadated Dictionary is :\",dict1)\n",
        "#Removing Items\n",
        "dict1.pop(\"StuAge\");\n",
        "#Updated dictoinary\n",
        "print(\"\\n Uadated Dictionary is :\",dict1)\n",
        "#Length of Dictionary\n",
        "print(\"Length of Dictionary is :\",len(dict1))\n",
        "#Copy a Dictionary\n",
        "dict2=dict1.copy()\n",
        "#New dictoinary\n",
        "print(\"\\n New Dictionary is :\",dict2)\n",
        "#empties the dictionary\n",
        "dict1.clear()\n",
        "print(\"\\n Uadated Dictionary is :\",dict1)"
      ],
      "metadata": {
        "colab": {
          "base_uri": "https://localhost:8080/"
        },
        "id": "WLUJ_xD9549l",
        "outputId": "da464d76-abfe-46bc-a6e7-39e6a838f5e3"
      },
      "execution_count": 1,
      "outputs": [
        {
          "output_type": "stream",
          "name": "stdout",
          "text": [
            "\n",
            " Dictionary is : {'StdNo': '532', 'StuName': 'Rajesh', 'StuAge': 21, 'StuCity': 'shirpur'}\n",
            "\n",
            " Student Name is : Rajesh\n",
            "\n",
            " Student City is : shirpur\n",
            "\n",
            " All Keys in Dictionary \n",
            "StdNo\n",
            "StuName\n",
            "StuAge\n",
            "StuCity\n",
            "\n",
            " All Values in Dictionary \n",
            "532\n",
            "Rajesh\n",
            "21\n",
            "shirpur\n",
            "\n",
            " Uadated Dictionary is : {'StdNo': '532', 'StuName': 'Rajesh', 'StuAge': 21, 'StuCity': 'shirpur', 'Phno': 85457854}\n",
            "\n",
            " Uadated Dictionary is : {'StdNo': '532', 'StuName': 'shreya', 'StuAge': 21, 'StuCity': 'shirpur', 'Phno': 85457854}\n",
            "\n",
            " Uadated Dictionary is : {'StdNo': '532', 'StuName': 'shreya', 'StuCity': 'shirpur', 'Phno': 85457854}\n",
            "Length of Dictionary is : 4\n",
            "\n",
            " New Dictionary is : {'StdNo': '532', 'StuName': 'shreya', 'StuCity': 'shirpur', 'Phno': 85457854}\n",
            "\n",
            " Uadated Dictionary is : {}\n"
          ]
        }
      ]
    }
  ]
}